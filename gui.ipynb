{
 "cells": [
  {
   "cell_type": "markdown",
   "metadata": {},
   "source": [
    "# DETERMINISTIC, RELIABILITY-BASED AND RISK-BASED DESIGN OPTIMIZATION OF EARTH SLOPES USING ANN TECHNIQUE\n",
    "\n",
    "This Python notebook uses a pre-trained Artificial Neural Network (ANN) to estimate deterministic and probabilistic structural properties of earth slopes.\n",
    "\n",
    "The ANN receives the geometry and the material properties of the slope as inputs.\n",
    "\n",
    "The outputs are the Factor of Safety and the Reliability Index of the slope.\n",
    "\n",
    "The ANN is also incorporated in optimization routines for Risk-Based Design Optimization."
   ]
  },
  {
   "cell_type": "code",
   "execution_count": 1,
   "metadata": {},
   "outputs": [],
   "source": [
    "import ipywidgets as widgets\n",
    "from ipywidgets import interact, interact_manual"
   ]
  },
  {
   "cell_type": "code",
   "execution_count": 2,
   "metadata": {},
   "outputs": [
    {
     "data": {
      "text/plain": [
       "Neural_network(\n",
       "  (net1): Sequential(\n",
       "    (0): Linear(in_features=5, out_features=25, bias=True)\n",
       "    (1): ReLU()\n",
       "    (2): Linear(in_features=25, out_features=2, bias=True)\n",
       "  )\n",
       "  (net2): Sequential(\n",
       "    (0): Linear(in_features=10, out_features=39, bias=True)\n",
       "    (1): ReLU()\n",
       "    (2): Linear(in_features=39, out_features=39, bias=True)\n",
       "    (3): ReLU()\n",
       "    (4): Dropout(p=0.0, inplace=False)\n",
       "    (5): Linear(in_features=39, out_features=2, bias=True)\n",
       "  )\n",
       ")"
      ]
     },
     "execution_count": 2,
     "metadata": {},
     "output_type": "execute_result"
    }
   ],
   "source": [
    "from neural_network import *\n",
    "\n",
    "from matplotlib import pyplot as plt\n",
    "\n",
    "import numpy as np\n",
    "import pandas as pd\n",
    "\n",
    "input_size1 = 5\n",
    "output_size1 = 2\n",
    "input_size2 = 3\n",
    "output_size2 = 2\n",
    "\n",
    "filename = 'model.pt'\n",
    "\n",
    "NN = Neural_network(input_size1,output_size1,input_size2,output_size2)\n",
    "\n",
    "NN.load(filename)\n",
    "NN.eval()"
   ]
  },
  {
   "cell_type": "code",
   "execution_count": 6,
   "metadata": {},
   "outputs": [
    {
     "data": {
      "text/html": [
       "<style>\n",
       "    .widget-label { min-width: 40ex !important; }\n",
       "    .slider { min-width: 40ex !important; }\n",
       "</style>"
      ],
      "text/plain": [
       "<IPython.core.display.HTML object>"
      ]
     },
     "metadata": {},
     "output_type": "display_data"
    },
    {
     "data": {
      "application/vnd.jupyter.widget-view+json": {
       "model_id": "70db0b711c96488497925a0dd113f43e",
       "version_major": 2,
       "version_minor": 0
      },
      "text/plain": [
       "interactive(children=(FloatSlider(value=1.0, description='H:1V', max=2.5, min=0.5, step=0.01), FloatSlider(val…"
      ]
     },
     "metadata": {},
     "output_type": "display_data"
    },
    {
     "data": {
      "text/plain": [
       "<function __main__.run_once(HV, H, c, phi, gamma, c_cov, phi_cov, gamma_cov, cost_initial, cost_construction, cost_fail1, cost_fail2)>"
      ]
     },
     "execution_count": 6,
     "metadata": {},
     "output_type": "execute_result"
    }
   ],
   "source": [
    "from ipywidgets import interact, widgets\n",
    "\n",
    "from IPython.display import HTML, display\n",
    "\n",
    "display(HTML('''<style>\n",
    "    .widget-label { min-width: 40ex !important; }\n",
    "    .slider { min-width: 40ex !important; }\n",
    "</style>'''))\n",
    "\n",
    "# this is a sample function\n",
    "def run_once(HV,H,c,phi, gamma, c_cov, phi_cov, gamma_cov,cost_initial,cost_construction,cost_fail1,cost_fail2):\n",
    "    model_out = NN.run_model([c,phi,gamma,HV,H,c_cov,phi_cov,gamma_cov],costs={'operation':cost_initial, 'escavation':cost_construction, 'failure1':cost_fail1, 'failure2':cost_fail2, 'expansion':1.2})\n",
    "\n",
    "    return(model_out[['FS', 'beta', 'PF', 'V1', 'V2', 'Cost_initial','Cost_fail','Cost_total']])\n",
    "\n",
    "interact(run_once,\n",
    "         HV=widgets.FloatSlider(min=0.5,max=2.5,value=1.0,step=0.01,description='H:1V'),\n",
    "         H=widgets.FloatSlider(min=10,max=30,value=20,description='H (m):'),\n",
    "         c=widgets.FloatSlider(min=5,max=30,value=20,description='c (kPa):'),\n",
    "         phi=widgets.FloatSlider(min=20,max=40,value=30,description='φ (degrees):'),\n",
    "         gamma=widgets.FloatSlider(min=15,max=20,value=18,description='γ (kN/m³):'),\n",
    "         c_cov=widgets.FloatSlider(min=10,max=50,value=20,description='COV(c) (%):'),\n",
    "         phi_cov=widgets.FloatSlider(min=10,max=50,value=20,description='COV(φ) (%):'),\n",
    "         gamma_cov=widgets.FloatSlider(min=3,max=12,value=5,description='COV(γ) (%):'),\n",
    "         cost_initial=widgets.FloatLogSlider(min=0,max=2,value=5,step=0.01,description='Initial cost ($/m):'),\n",
    "         cost_construction=widgets.FloatLogSlider(min=0,max=2,value=13,step=0.01,description='Construction cost ($/m):'),\n",
    "         cost_fail1=widgets.FloatLogSlider(min=0,max=4,value=20,step=0.01,description='Failure cost per volume ($/m³):'),\n",
    "         cost_fail2=widgets.FloatLogSlider(min=0,max=7,value=10000,step=0.01,description='Failure cost per length($/m):'))"
   ]
  },
  {
   "cell_type": "code",
   "execution_count": 4,
   "metadata": {},
   "outputs": [
    {
     "data": {
      "text/html": [
       "<style>\n",
       "    .widget-label { min-width: 40ex !important; }\n",
       "    .slider { min-width: 40ex !important; }\n",
       "</style>"
      ],
      "text/plain": [
       "<IPython.core.display.HTML object>"
      ]
     },
     "metadata": {},
     "output_type": "display_data"
    },
    {
     "data": {
      "application/vnd.jupyter.widget-view+json": {
       "model_id": "a284ba5ab66345e6aaa0059e97c485f6",
       "version_major": 2,
       "version_minor": 0
      },
      "text/plain": [
       "interactive(children=(FloatSlider(value=20.0, description='H (m):', max=30.0, min=10.0), FloatSlider(value=20.…"
      ]
     },
     "metadata": {},
     "output_type": "display_data"
    },
    {
     "data": {
      "text/plain": [
       "<function __main__.run_opt(H, c, phi, gamma, c_cov, phi_cov, gamma_cov, cost_initial, cost_construction, cost_fail1, cost_fail2)>"
      ]
     },
     "execution_count": 4,
     "metadata": {},
     "output_type": "execute_result"
    }
   ],
   "source": [
    "from ipywidgets import interact, widgets\n",
    "\n",
    "from IPython.display import HTML, display\n",
    "\n",
    "display(HTML('''<style>\n",
    "    .widget-label { min-width: 40ex !important; }\n",
    "    .slider { min-width: 40ex !important; }\n",
    "</style>'''))\n",
    "\n",
    "# this is a sample function\n",
    "def run_opt(H,c,phi, gamma, c_cov, phi_cov, gamma_cov,cost_initial,cost_construction,cost_fail1,cost_fail2):\n",
    "    HVs = np.arange(0.5,2.5,1./16)\n",
    "    n_cases = len(HVs)\n",
    "\n",
    "\n",
    "    data_in = np.tile(np.array([c,phi,gamma,0,H,c_cov,phi_cov,gamma_cov]),(n_cases,1))\n",
    "    data_in[:,3] = HVs\n",
    "    model_out = NN.run_model(data_in,costs={'operation':cost_initial, 'escavation':cost_construction, 'failure1':cost_fail1, 'failure2':cost_fail2, 'expansion':1.2})\n",
    "\n",
    "    opt_index = np.argmin(model_out['Cost_total'])\n",
    "\n",
    "    # Create a figure with two subplots side by side\n",
    "    fig, axs = plt.subplots(1, 2, figsize=(10, 3))\n",
    "\n",
    "    # Plot your data in the first subplot\n",
    "    axs[0].plot(HVs, model_out['FS'], 'b', label='FS')\n",
    "    axs[0].plot(HVs, model_out['beta'], 'r', label='β')\n",
    "    axs[0].plot(HVs, model_out['PF'], 'g', label='PF')\n",
    "    axs[0].axvline(x=HVs[opt_index], color='k')\n",
    "    axs[0].set_xlabel('H:1V')\n",
    "    axs[0].set_ylabel('FS, β, PF')\n",
    "\n",
    "    # Plot your data in the second subplot\n",
    "    axs[1].plot(HVs, model_out['Cost_initial'], 'b', label='Initial')\n",
    "    axs[1].plot(HVs, model_out['Cost_fail'], 'r', label='Failure')\n",
    "    axs[1].plot(HVs, model_out['Cost_total'], 'k', label='Total')\n",
    "    axs[1].axvline(x=HVs[opt_index], color='k')\n",
    "    axs[1].set_xlabel('H:1V')\n",
    "    axs[1].set_ylabel('Cost ($)')\n",
    "\n",
    "    # Add legends\n",
    "    axs[0].legend()\n",
    "    axs[1].legend()\n",
    "\n",
    "    # Adjust horizontal spacing between subplots\n",
    "    plt.subplots_adjust(wspace=0.4)  # You can adjust this value as needed\n",
    "\n",
    "    # Show the plot\n",
    "    plt.show()\n",
    "\n",
    "\n",
    "    #return()\n",
    "\n",
    "interact(run_opt,\n",
    "         H=widgets.FloatSlider(min=10,max=30,value=20,description='H (m):'),\n",
    "         c=widgets.FloatSlider(min=10,max=30,value=20,description='c (kPa):'),\n",
    "         phi=widgets.FloatSlider(min=20,max=40,value=30,description='φ (degrees):'),\n",
    "         gamma=widgets.FloatSlider(min=16,max=20,value=18,description='γ (kN/m³):'),\n",
    "         c_cov=widgets.FloatSlider(min=10,max=50,value=20,description='COV(c) (%):'),\n",
    "         phi_cov=widgets.FloatSlider(min=10,max=50,value=20,description='COV(φ) (%):'),\n",
    "         gamma_cov=widgets.FloatSlider(min=3,max=12,value=5,description='COV(γ) (%):'),\n",
    "         cost_initial=widgets.FloatLogSlider(min=0,max=2,value=5,step=0.01,description='Initial cost ($/m):'),\n",
    "         cost_construction=widgets.FloatLogSlider(min=0,max=2,value=13,step=0.01,description='Construction cost ($/m):'),\n",
    "         cost_fail1=widgets.FloatLogSlider(min=0,max=4,value=20,step=0.01,description='Failure cost per volume ($/m³):'),\n",
    "         cost_fail2=widgets.FloatLogSlider(min=0,max=7,value=10000,step=0.01,description='Failure cost per length($/m):'))"
   ]
  }
 ],
 "metadata": {
  "kernelspec": {
   "display_name": "py311",
   "language": "python",
   "name": "python3"
  },
  "language_info": {
   "codemirror_mode": {
    "name": "ipython",
    "version": 3
   },
   "file_extension": ".py",
   "mimetype": "text/x-python",
   "name": "python",
   "nbconvert_exporter": "python",
   "pygments_lexer": "ipython3",
   "version": "3.11.6"
  }
 },
 "nbformat": 4,
 "nbformat_minor": 2
}
